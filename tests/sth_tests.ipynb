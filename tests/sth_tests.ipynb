{
 "cells": [
  {
   "cell_type": "markdown",
   "metadata": {},
   "source": [
    "# Testing of STH Simulation Python Module"
   ]
  },
  {
   "cell_type": "markdown",
   "metadata": {},
   "source": [
    "Import `numpy`, `pandas` and `matplotlib`. Note that `matplotlib` is not needed for running the simulations, it is only used for plotting the results."
   ]
  },
  {
   "cell_type": "code",
   "execution_count": 1,
   "metadata": {},
   "outputs": [],
   "source": [
    "import numpy as np\n",
    "import pandas as pd\n",
    "import matplotlib.pyplot as plt\n",
    "\n",
    "%matplotlib inline\n",
    "plt.rcParams['figure.figsize'] = [12, 6]"
   ]
  },
  {
   "cell_type": "markdown",
   "metadata": {},
   "source": [
    "Import the `STH_Simulation()` function from the `helsim_RUN` module in the `sth_simulation` package."
   ]
  },
  {
   "cell_type": "code",
   "execution_count": 2,
   "metadata": {},
   "outputs": [],
   "source": [
    "from sth_simulation.helsim_RUN import STH_Simulation"
   ]
  },
  {
   "cell_type": "markdown",
   "metadata": {},
   "source": [
    "The inputs of the `STH_Simulation()` function are the following:\n",
    "\n",
    "    paramFileName: str\n",
    "        This is the name of the input text file with the\n",
    "        model parameters.\n",
    "\n",
    "    demogName: str\n",
    "        This is the subset of demography parameters to be\n",
    "        extracted from the Demographies.txt file.\n",
    "\n",
    "    MDAFilePath: str\n",
    "        This is the path to the input CSV file with the\n",
    "        MDA times and with the respective coverage\n",
    "        fractions for each age group.\n",
    "\n",
    "    PrevFilePath: str\n",
    "        This is the path where the output CSV file with\n",
    "        the simulated prevalence will be saved.\n",
    "\n",
    "    RkFilePath: str\n",
    "        This is the path to the input CSV file with the\n",
    "        random seed, R0, and k to be used for each simulation.\n",
    "        If not provided, the code will use the parameters\n",
    "        in the input text file.\n",
    "\n",
    "    nYears: int\n",
    "        This is the number of years for which the\n",
    "        simulations will be performed.\n",
    "\n",
    "    outputFrequency: int\n",
    "        This is the number of time points saved down\n",
    "        in the CSV file for each year.\n",
    "\n",
    "    numReps: int\n",
    "        This is the number of simulations. If not provided,\n",
    "        the number of simulations will be inferred from the\n",
    "        input text file or CSV file.\n",
    "\n",
    "    SaveOutput: bool\n",
    "        If True, the last state of the simulations will\n",
    "        be saved in a pickle file. If False, the last\n",
    "        state of the simulations will not be saved.\n",
    "\n",
    "    OutSimFilePath: str\n",
    "        This is the path where the output pickle file with\n",
    "        the last state of the simulations will be saved. It\n",
    "        is only required when SaveOutput = True.\n",
    "\n",
    "    InSimFilePath: str\n",
    "        This is the path where the input pickle file with\n",
    "        the last state of the simulations has been saved.\n",
    "        If this is provided, the code will resume the\n",
    "        previous simulations from this state. If this is\n",
    "        not provided, the code will start new simulations\n",
    "        from scratch."
   ]
  },
  {
   "cell_type": "markdown",
   "metadata": {},
   "source": [
    "The `STH_Simulation()` function saves the output CSV file with the simulated prevalence (and, if required, the output pickle file with the final state of the simulations) in the specified paths. Apart from that, the `STH_Simulation()` function does not return any objects."
   ]
  },
  {
   "cell_type": "markdown",
   "metadata": {},
   "source": [
    "## Test 1"
   ]
  },
  {
   "cell_type": "markdown",
   "metadata": {},
   "source": [
    "Run the simulations for 7 years setting the output frequency equal to one month."
   ]
  },
  {
   "cell_type": "code",
   "execution_count": 3,
   "metadata": {},
   "outputs": [
    {
     "name": "stdout",
     "output_type": "stream",
     "text": [
      "Running time: 4 seconds.\n"
     ]
    }
   ],
   "source": [
    "STH_Simulation(paramFileName='AscarisParameters_moderate.txt',\n",
    "               demogName='KenyaKDHS',\n",
    "               MDAFilePath='files/Input_MDA_23Oct20.csv',\n",
    "               PrevFilePath='files/OutputPrev_STH_test_1a.csv',\n",
    "               RkFilePath='files/InputRk_STH.csv',\n",
    "               nYears=7,\n",
    "               outputFrequency=12,\n",
    "               numReps=None,\n",
    "               SaveOutput=False,\n",
    "               OutSimFilePath=None,\n",
    "               InSimFilePath=None)"
   ]
  },
  {
   "cell_type": "markdown",
   "metadata": {},
   "source": [
    "Import the output CSV file with the simulated prevalence."
   ]
  },
  {
   "cell_type": "code",
   "execution_count": 4,
   "metadata": {},
   "outputs": [],
   "source": [
    "out1a = pd.read_csv('files/OutputPrev_STH_test_1a.csv')"
   ]
  },
  {
   "cell_type": "markdown",
   "metadata": {},
   "source": [
    "Display the first few rows."
   ]
  },
  {
   "cell_type": "code",
   "execution_count": 5,
   "metadata": {},
   "outputs": [
    {
     "data": {
      "text/html": [
       "<div>\n",
       "<style scoped>\n",
       "    .dataframe tbody tr th:only-of-type {\n",
       "        vertical-align: middle;\n",
       "    }\n",
       "\n",
       "    .dataframe tbody tr th {\n",
       "        vertical-align: top;\n",
       "    }\n",
       "\n",
       "    .dataframe thead th {\n",
       "        text-align: right;\n",
       "    }\n",
       "</style>\n",
       "<table border=\"1\" class=\"dataframe\">\n",
       "  <thead>\n",
       "    <tr style=\"text-align: right;\">\n",
       "      <th></th>\n",
       "      <th>Random Generator</th>\n",
       "      <th>R0</th>\n",
       "      <th>k</th>\n",
       "      <th>prevKKSAC year 0.0</th>\n",
       "      <th>prevKKSAC year 0.08</th>\n",
       "      <th>prevKKSAC year 0.17</th>\n",
       "      <th>prevKKSAC year 0.25</th>\n",
       "      <th>prevKKSAC year 0.33</th>\n",
       "      <th>prevKKSAC year 0.42</th>\n",
       "      <th>prevKKSAC year 0.5</th>\n",
       "      <th>...</th>\n",
       "      <th>prevKKSAC year 6.25</th>\n",
       "      <th>prevKKSAC year 6.33</th>\n",
       "      <th>prevKKSAC year 6.42</th>\n",
       "      <th>prevKKSAC year 6.5</th>\n",
       "      <th>prevKKSAC year 6.58</th>\n",
       "      <th>prevKKSAC year 6.67</th>\n",
       "      <th>prevKKSAC year 6.75</th>\n",
       "      <th>prevKKSAC year 6.83</th>\n",
       "      <th>prevKKSAC year 6.92</th>\n",
       "      <th>prevKKSAC year 7.0</th>\n",
       "    </tr>\n",
       "  </thead>\n",
       "  <tbody>\n",
       "    <tr>\n",
       "      <th>0</th>\n",
       "      <td>1</td>\n",
       "      <td>3</td>\n",
       "      <td>0.240</td>\n",
       "      <td>0.481203</td>\n",
       "      <td>0.481203</td>\n",
       "      <td>0.492537</td>\n",
       "      <td>0.481481</td>\n",
       "      <td>0.500000</td>\n",
       "      <td>0.466165</td>\n",
       "      <td>0.458647</td>\n",
       "      <td>...</td>\n",
       "      <td>0.242857</td>\n",
       "      <td>0.253623</td>\n",
       "      <td>0.257353</td>\n",
       "      <td>0.311111</td>\n",
       "      <td>0.323529</td>\n",
       "      <td>0.323529</td>\n",
       "      <td>0.318519</td>\n",
       "      <td>0.362963</td>\n",
       "      <td>0.358779</td>\n",
       "      <td>0.361538</td>\n",
       "    </tr>\n",
       "    <tr>\n",
       "      <th>1</th>\n",
       "      <td>2</td>\n",
       "      <td>6</td>\n",
       "      <td>0.665</td>\n",
       "      <td>0.758621</td>\n",
       "      <td>0.821918</td>\n",
       "      <td>0.805369</td>\n",
       "      <td>0.796053</td>\n",
       "      <td>0.792208</td>\n",
       "      <td>0.802548</td>\n",
       "      <td>0.828025</td>\n",
       "      <td>...</td>\n",
       "      <td>0.712329</td>\n",
       "      <td>0.687075</td>\n",
       "      <td>0.743243</td>\n",
       "      <td>0.736486</td>\n",
       "      <td>0.756944</td>\n",
       "      <td>0.765517</td>\n",
       "      <td>0.791946</td>\n",
       "      <td>0.771812</td>\n",
       "      <td>0.809524</td>\n",
       "      <td>0.801370</td>\n",
       "    </tr>\n",
       "    <tr>\n",
       "      <th>2</th>\n",
       "      <td>3</td>\n",
       "      <td>9</td>\n",
       "      <td>0.732</td>\n",
       "      <td>0.784431</td>\n",
       "      <td>0.807229</td>\n",
       "      <td>0.800000</td>\n",
       "      <td>0.847561</td>\n",
       "      <td>0.800000</td>\n",
       "      <td>0.793750</td>\n",
       "      <td>0.796296</td>\n",
       "      <td>...</td>\n",
       "      <td>0.754967</td>\n",
       "      <td>0.776316</td>\n",
       "      <td>0.800000</td>\n",
       "      <td>0.778523</td>\n",
       "      <td>0.768212</td>\n",
       "      <td>0.788079</td>\n",
       "      <td>0.810811</td>\n",
       "      <td>0.789116</td>\n",
       "      <td>0.770270</td>\n",
       "      <td>0.816327</td>\n",
       "    </tr>\n",
       "    <tr>\n",
       "      <th>3</th>\n",
       "      <td>4</td>\n",
       "      <td>3</td>\n",
       "      <td>0.320</td>\n",
       "      <td>0.571429</td>\n",
       "      <td>0.568493</td>\n",
       "      <td>0.554054</td>\n",
       "      <td>0.544218</td>\n",
       "      <td>0.576389</td>\n",
       "      <td>0.569444</td>\n",
       "      <td>0.595890</td>\n",
       "      <td>...</td>\n",
       "      <td>0.392157</td>\n",
       "      <td>0.403974</td>\n",
       "      <td>0.413333</td>\n",
       "      <td>0.470199</td>\n",
       "      <td>0.493506</td>\n",
       "      <td>0.513333</td>\n",
       "      <td>0.453333</td>\n",
       "      <td>0.489933</td>\n",
       "      <td>0.500000</td>\n",
       "      <td>0.506667</td>\n",
       "    </tr>\n",
       "    <tr>\n",
       "      <th>4</th>\n",
       "      <td>5</td>\n",
       "      <td>6</td>\n",
       "      <td>0.240</td>\n",
       "      <td>0.577181</td>\n",
       "      <td>0.562914</td>\n",
       "      <td>0.546053</td>\n",
       "      <td>0.536424</td>\n",
       "      <td>0.546053</td>\n",
       "      <td>0.552632</td>\n",
       "      <td>0.559211</td>\n",
       "      <td>...</td>\n",
       "      <td>0.356589</td>\n",
       "      <td>0.398438</td>\n",
       "      <td>0.410853</td>\n",
       "      <td>0.465649</td>\n",
       "      <td>0.446154</td>\n",
       "      <td>0.465116</td>\n",
       "      <td>0.430769</td>\n",
       "      <td>0.433071</td>\n",
       "      <td>0.436508</td>\n",
       "      <td>0.464567</td>\n",
       "    </tr>\n",
       "  </tbody>\n",
       "</table>\n",
       "<p>5 rows × 88 columns</p>\n",
       "</div>"
      ],
      "text/plain": [
       "   Random Generator  R0      k  prevKKSAC year 0.0  prevKKSAC year 0.08  \\\n",
       "0                 1   3  0.240            0.481203             0.481203   \n",
       "1                 2   6  0.665            0.758621             0.821918   \n",
       "2                 3   9  0.732            0.784431             0.807229   \n",
       "3                 4   3  0.320            0.571429             0.568493   \n",
       "4                 5   6  0.240            0.577181             0.562914   \n",
       "\n",
       "   prevKKSAC year 0.17  prevKKSAC year 0.25  prevKKSAC year 0.33  \\\n",
       "0             0.492537             0.481481             0.500000   \n",
       "1             0.805369             0.796053             0.792208   \n",
       "2             0.800000             0.847561             0.800000   \n",
       "3             0.554054             0.544218             0.576389   \n",
       "4             0.546053             0.536424             0.546053   \n",
       "\n",
       "   prevKKSAC year 0.42  prevKKSAC year 0.5  ...  prevKKSAC year 6.25  \\\n",
       "0             0.466165            0.458647  ...             0.242857   \n",
       "1             0.802548            0.828025  ...             0.712329   \n",
       "2             0.793750            0.796296  ...             0.754967   \n",
       "3             0.569444            0.595890  ...             0.392157   \n",
       "4             0.552632            0.559211  ...             0.356589   \n",
       "\n",
       "   prevKKSAC year 6.33  prevKKSAC year 6.42  prevKKSAC year 6.5  \\\n",
       "0             0.253623             0.257353            0.311111   \n",
       "1             0.687075             0.743243            0.736486   \n",
       "2             0.776316             0.800000            0.778523   \n",
       "3             0.403974             0.413333            0.470199   \n",
       "4             0.398438             0.410853            0.465649   \n",
       "\n",
       "   prevKKSAC year 6.58  prevKKSAC year 6.67  prevKKSAC year 6.75  \\\n",
       "0             0.323529             0.323529             0.318519   \n",
       "1             0.756944             0.765517             0.791946   \n",
       "2             0.768212             0.788079             0.810811   \n",
       "3             0.493506             0.513333             0.453333   \n",
       "4             0.446154             0.465116             0.430769   \n",
       "\n",
       "   prevKKSAC year 6.83  prevKKSAC year 6.92  prevKKSAC year 7.0  \n",
       "0             0.362963             0.358779            0.361538  \n",
       "1             0.771812             0.809524            0.801370  \n",
       "2             0.789116             0.770270            0.816327  \n",
       "3             0.489933             0.500000            0.506667  \n",
       "4             0.433071             0.436508            0.464567  \n",
       "\n",
       "[5 rows x 88 columns]"
      ]
     },
     "execution_count": 5,
     "metadata": {},
     "output_type": "execute_result"
    }
   ],
   "source": [
    "out1a.head()"
   ]
  },
  {
   "cell_type": "markdown",
   "metadata": {},
   "source": [
    "Plot the average."
   ]
  },
  {
   "cell_type": "code",
   "execution_count": 6,
   "metadata": {},
   "outputs": [
    {
     "data": {
      "text/plain": [
       "[<matplotlib.lines.Line2D at 0x7faefbe00f50>]"
      ]
     },
     "execution_count": 6,
     "metadata": {},
     "output_type": "execute_result"
    },
    {
     "data": {
      "image/png": "[encoded data removed]",
      "text/plain": [
       "<Figure size 864x432 with 1 Axes>"
      ]
     },
     "metadata": {
      "needs_background": "light"
     },
     "output_type": "display_data"
    }
   ],
   "source": [
    "plt.plot(out1a.iloc[:, 3:].mean(axis=0).to_numpy())"
   ]
  },
  {
   "cell_type": "markdown",
   "metadata": {},
   "source": [
    "Rerun the same simulations."
   ]
  },
  {
   "cell_type": "code",
   "execution_count": 7,
   "metadata": {},
   "outputs": [
    {
     "name": "stdout",
     "output_type": "stream",
     "text": [
      "Running time: 3 seconds.\n"
     ]
    }
   ],
   "source": [
    "STH_Simulation(paramFileName='AscarisParameters_moderate.txt',\n",
    "               demogName='KenyaKDHS',\n",
    "               MDAFilePath='files/Input_MDA_23Oct20.csv',\n",
    "               PrevFilePath='files/OutputPrev_STH_test_1b.csv',\n",
    "               RkFilePath='files/InputRk_STH.csv',\n",
    "               nYears=7,\n",
    "               outputFrequency=12,\n",
    "               numReps=None,\n",
    "               SaveOutput=False,\n",
    "               OutSimFilePath=None,\n",
    "               InSimFilePath=None)"
   ]
  },
  {
   "cell_type": "markdown",
   "metadata": {},
   "source": [
    "Import the output CSV file with the simulated prevalence."
   ]
  },
  {
   "cell_type": "code",
   "execution_count": 8,
   "metadata": {},
   "outputs": [],
   "source": [
    "out1b = pd.read_csv('files/OutputPrev_STH_test_1b.csv')"
   ]
  },
  {
   "cell_type": "markdown",
   "metadata": {},
   "source": [
    "Calculate the differences."
   ]
  },
  {
   "cell_type": "code",
   "execution_count": 9,
   "metadata": {},
   "outputs": [],
   "source": [
    "diff = out1a - out1b"
   ]
  },
  {
   "cell_type": "markdown",
   "metadata": {},
   "source": [
    "Display the differences for the first few rows."
   ]
  },
  {
   "cell_type": "code",
   "execution_count": 10,
   "metadata": {},
   "outputs": [
    {
     "data": {
      "text/html": [
       "<div>\n",
       "<style scoped>\n",
       "    .dataframe tbody tr th:only-of-type {\n",
       "        vertical-align: middle;\n",
       "    }\n",
       "\n",
       "    .dataframe tbody tr th {\n",
       "        vertical-align: top;\n",
       "    }\n",
       "\n",
       "    .dataframe thead th {\n",
       "        text-align: right;\n",
       "    }\n",
       "</style>\n",
       "<table border=\"1\" class=\"dataframe\">\n",
       "  <thead>\n",
       "    <tr style=\"text-align: right;\">\n",
       "      <th></th>\n",
       "      <th>Random Generator</th>\n",
       "      <th>R0</th>\n",
       "      <th>k</th>\n",
       "      <th>prevKKSAC year 0.0</th>\n",
       "      <th>prevKKSAC year 0.08</th>\n",
       "      <th>prevKKSAC year 0.17</th>\n",
       "      <th>prevKKSAC year 0.25</th>\n",
       "      <th>prevKKSAC year 0.33</th>\n",
       "      <th>prevKKSAC year 0.42</th>\n",
       "      <th>prevKKSAC year 0.5</th>\n",
       "      <th>...</th>\n",
       "      <th>prevKKSAC year 6.25</th>\n",
       "      <th>prevKKSAC year 6.33</th>\n",
       "      <th>prevKKSAC year 6.42</th>\n",
       "      <th>prevKKSAC year 6.5</th>\n",
       "      <th>prevKKSAC year 6.58</th>\n",
       "      <th>prevKKSAC year 6.67</th>\n",
       "      <th>prevKKSAC year 6.75</th>\n",
       "      <th>prevKKSAC year 6.83</th>\n",
       "      <th>prevKKSAC year 6.92</th>\n",
       "      <th>prevKKSAC year 7.0</th>\n",
       "    </tr>\n",
       "  </thead>\n",
       "  <tbody>\n",
       "    <tr>\n",
       "      <th>0</th>\n",
       "      <td>0</td>\n",
       "      <td>0</td>\n",
       "      <td>0.0</td>\n",
       "      <td>0.0</td>\n",
       "      <td>0.0</td>\n",
       "      <td>0.0</td>\n",
       "      <td>0.0</td>\n",
       "      <td>0.0</td>\n",
       "      <td>0.0</td>\n",
       "      <td>0.0</td>\n",
       "      <td>...</td>\n",
       "      <td>0.0</td>\n",
       "      <td>0.0</td>\n",
       "      <td>0.0</td>\n",
       "      <td>0.0</td>\n",
       "      <td>0.0</td>\n",
       "      <td>0.0</td>\n",
       "      <td>0.0</td>\n",
       "      <td>0.0</td>\n",
       "      <td>0.0</td>\n",
       "      <td>0.0</td>\n",
       "    </tr>\n",
       "    <tr>\n",
       "      <th>1</th>\n",
       "      <td>0</td>\n",
       "      <td>0</td>\n",
       "      <td>0.0</td>\n",
       "      <td>0.0</td>\n",
       "      <td>0.0</td>\n",
       "      <td>0.0</td>\n",
       "      <td>0.0</td>\n",
       "      <td>0.0</td>\n",
       "      <td>0.0</td>\n",
       "      <td>0.0</td>\n",
       "      <td>...</td>\n",
       "      <td>0.0</td>\n",
       "      <td>0.0</td>\n",
       "      <td>0.0</td>\n",
       "      <td>0.0</td>\n",
       "      <td>0.0</td>\n",
       "      <td>0.0</td>\n",
       "      <td>0.0</td>\n",
       "      <td>0.0</td>\n",
       "      <td>0.0</td>\n",
       "      <td>0.0</td>\n",
       "    </tr>\n",
       "    <tr>\n",
       "      <th>2</th>\n",
       "      <td>0</td>\n",
       "      <td>0</td>\n",
       "      <td>0.0</td>\n",
       "      <td>0.0</td>\n",
       "      <td>0.0</td>\n",
       "      <td>0.0</td>\n",
       "      <td>0.0</td>\n",
       "      <td>0.0</td>\n",
       "      <td>0.0</td>\n",
       "      <td>0.0</td>\n",
       "      <td>...</td>\n",
       "      <td>0.0</td>\n",
       "      <td>0.0</td>\n",
       "      <td>0.0</td>\n",
       "      <td>0.0</td>\n",
       "      <td>0.0</td>\n",
       "      <td>0.0</td>\n",
       "      <td>0.0</td>\n",
       "      <td>0.0</td>\n",
       "      <td>0.0</td>\n",
       "      <td>0.0</td>\n",
       "    </tr>\n",
       "    <tr>\n",
       "      <th>3</th>\n",
       "      <td>0</td>\n",
       "      <td>0</td>\n",
       "      <td>0.0</td>\n",
       "      <td>0.0</td>\n",
       "      <td>0.0</td>\n",
       "      <td>0.0</td>\n",
       "      <td>0.0</td>\n",
       "      <td>0.0</td>\n",
       "      <td>0.0</td>\n",
       "      <td>0.0</td>\n",
       "      <td>...</td>\n",
       "      <td>0.0</td>\n",
       "      <td>0.0</td>\n",
       "      <td>0.0</td>\n",
       "      <td>0.0</td>\n",
       "      <td>0.0</td>\n",
       "      <td>0.0</td>\n",
       "      <td>0.0</td>\n",
       "      <td>0.0</td>\n",
       "      <td>0.0</td>\n",
       "      <td>0.0</td>\n",
       "    </tr>\n",
       "    <tr>\n",
       "      <th>4</th>\n",
       "      <td>0</td>\n",
       "      <td>0</td>\n",
       "      <td>0.0</td>\n",
       "      <td>0.0</td>\n",
       "      <td>0.0</td>\n",
       "      <td>0.0</td>\n",
       "      <td>0.0</td>\n",
       "      <td>0.0</td>\n",
       "      <td>0.0</td>\n",
       "      <td>0.0</td>\n",
       "      <td>...</td>\n",
       "      <td>0.0</td>\n",
       "      <td>0.0</td>\n",
       "      <td>0.0</td>\n",
       "      <td>0.0</td>\n",
       "      <td>0.0</td>\n",
       "      <td>0.0</td>\n",
       "      <td>0.0</td>\n",
       "      <td>0.0</td>\n",
       "      <td>0.0</td>\n",
       "      <td>0.0</td>\n",
       "    </tr>\n",
       "  </tbody>\n",
       "</table>\n",
       "<p>5 rows × 88 columns</p>\n",
       "</div>"
      ],
      "text/plain": [
       "   Random Generator  R0    k  prevKKSAC year 0.0  prevKKSAC year 0.08  \\\n",
       "0                 0   0  0.0                 0.0                  0.0   \n",
       "1                 0   0  0.0                 0.0                  0.0   \n",
       "2                 0   0  0.0                 0.0                  0.0   \n",
       "3                 0   0  0.0                 0.0                  0.0   \n",
       "4                 0   0  0.0                 0.0                  0.0   \n",
       "\n",
       "   prevKKSAC year 0.17  prevKKSAC year 0.25  prevKKSAC year 0.33  \\\n",
       "0                  0.0                  0.0                  0.0   \n",
       "1                  0.0                  0.0                  0.0   \n",
       "2                  0.0                  0.0                  0.0   \n",
       "3                  0.0                  0.0                  0.0   \n",
       "4                  0.0                  0.0                  0.0   \n",
       "\n",
       "   prevKKSAC year 0.42  prevKKSAC year 0.5  ...  prevKKSAC year 6.25  \\\n",
       "0                  0.0                 0.0  ...                  0.0   \n",
       "1                  0.0                 0.0  ...                  0.0   \n",
       "2                  0.0                 0.0  ...                  0.0   \n",
       "3                  0.0                 0.0  ...                  0.0   \n",
       "4                  0.0                 0.0  ...                  0.0   \n",
       "\n",
       "   prevKKSAC year 6.33  prevKKSAC year 6.42  prevKKSAC year 6.5  \\\n",
       "0                  0.0                  0.0                 0.0   \n",
       "1                  0.0                  0.0                 0.0   \n",
       "2                  0.0                  0.0                 0.0   \n",
       "3                  0.0                  0.0                 0.0   \n",
       "4                  0.0                  0.0                 0.0   \n",
       "\n",
       "   prevKKSAC year 6.58  prevKKSAC year 6.67  prevKKSAC year 6.75  \\\n",
       "0                  0.0                  0.0                  0.0   \n",
       "1                  0.0                  0.0                  0.0   \n",
       "2                  0.0                  0.0                  0.0   \n",
       "3                  0.0                  0.0                  0.0   \n",
       "4                  0.0                  0.0                  0.0   \n",
       "\n",
       "   prevKKSAC year 6.83  prevKKSAC year 6.92  prevKKSAC year 7.0  \n",
       "0                  0.0                  0.0                 0.0  \n",
       "1                  0.0                  0.0                 0.0  \n",
       "2                  0.0                  0.0                 0.0  \n",
       "3                  0.0                  0.0                 0.0  \n",
       "4                  0.0                  0.0                 0.0  \n",
       "\n",
       "[5 rows x 88 columns]"
      ]
     },
     "execution_count": 10,
     "metadata": {},
     "output_type": "execute_result"
    }
   ],
   "source": [
    "diff.head()"
   ]
  },
  {
   "cell_type": "markdown",
   "metadata": {},
   "source": [
    "Calculate the largest and smallest difference."
   ]
  },
  {
   "cell_type": "code",
   "execution_count": 11,
   "metadata": {},
   "outputs": [
    {
     "name": "stdout",
     "output_type": "stream",
     "text": [
      "Largest difference: 0.00\n",
      "Smallest difference: 0.00\n"
     ]
    }
   ],
   "source": [
    "print('Largest difference: ' + format(np.min(diff.values), '.2f'))\n",
    "print('Smallest difference: ' + format(np.max(diff.values), '.2f'))"
   ]
  },
  {
   "cell_type": "markdown",
   "metadata": {},
   "source": [
    "# Test 2"
   ]
  },
  {
   "cell_type": "markdown",
   "metadata": {},
   "source": [
    "Rerun the same simulations for the first 2 years keeping the output frequency equal to one month."
   ]
  },
  {
   "cell_type": "code",
   "execution_count": 12,
   "metadata": {},
   "outputs": [
    {
     "name": "stdout",
     "output_type": "stream",
     "text": [
      "Running time: 1 seconds.\n"
     ]
    }
   ],
   "source": [
    "STH_Simulation(paramFileName='AscarisParameters_moderate.txt',\n",
    "               demogName='KenyaKDHS',\n",
    "               MDAFilePath='files/Input_MDA_23Oct20_part1.csv',\n",
    "               PrevFilePath='files/OutputPrev_STH_test_2a.csv',\n",
    "               RkFilePath='files/InputRk_STH.csv',\n",
    "               nYears=2,\n",
    "               outputFrequency=12,\n",
    "               numReps=None,\n",
    "               SaveOutput=True,\n",
    "               OutSimFilePath='files/Output_STH_test_2a.p',\n",
    "               InSimFilePath=None)"
   ]
  },
  {
   "cell_type": "markdown",
   "metadata": {},
   "source": [
    "Continue the same simulations for 5 years keeping the output frequency equal to one month."
   ]
  },
  {
   "cell_type": "code",
   "execution_count": 13,
   "metadata": {},
   "outputs": [
    {
     "name": "stdout",
     "output_type": "stream",
     "text": [
      "Running time: 3 seconds.\n"
     ]
    }
   ],
   "source": [
    "STH_Simulation(paramFileName='AscarisParameters_moderate.txt',\n",
    "               demogName='KenyaKDHS',\n",
    "               MDAFilePath='files/Input_MDA_23Oct20_part2.csv',\n",
    "               PrevFilePath='files/OutputPrev_STH_test_2b.csv',\n",
    "               RkFilePath='files/InputRk_STH.csv',\n",
    "               nYears=5,\n",
    "               outputFrequency=12,\n",
    "               numReps=None,\n",
    "               SaveOutput=False,\n",
    "               OutSimFilePath=None,\n",
    "               InSimFilePath='files/Output_STH_test_2a.p')"
   ]
  },
  {
   "cell_type": "markdown",
   "metadata": {},
   "source": [
    "Import the output CSV files with the simulated prevalence."
   ]
  },
  {
   "cell_type": "code",
   "execution_count": 14,
   "metadata": {},
   "outputs": [],
   "source": [
    "out2a = pd.read_csv('files/OutputPrev_STH_test_2a.csv')\n",
    "out2b = pd.read_csv('files/OutputPrev_STH_test_2b.csv')"
   ]
  },
  {
   "cell_type": "markdown",
   "metadata": {},
   "source": [
    "Merge the two CSV files."
   ]
  },
  {
   "cell_type": "code",
   "execution_count": 15,
   "metadata": {},
   "outputs": [],
   "source": [
    "out2c = out2a.join(out2b.iloc[:, 3:])"
   ]
  },
  {
   "cell_type": "markdown",
   "metadata": {},
   "source": [
    "Compare the output of the two separate runs to the output of the previous unique run."
   ]
  },
  {
   "cell_type": "code",
   "execution_count": 16,
   "metadata": {},
   "outputs": [
    {
     "data": {
      "text/plain": [
       "<matplotlib.legend.Legend at 0x7faefc1be0d0>"
      ]
     },
     "execution_count": 16,
     "metadata": {},
     "output_type": "execute_result"
    },
    {
     "data": {
      "image/png": "[encoded data removed]",
      "text/plain": [
       "<Figure size 864x432 with 1 Axes>"
      ]
     },
     "metadata": {
      "needs_background": "light"
     },
     "output_type": "display_data"
    }
   ],
   "source": [
    "plt.plot(out1a.iloc[:, 3:].mean(axis=0).to_numpy(), color='blue', label='Unique Run')\n",
    "plt.plot(out2c.iloc[:, 3:].mean(axis=0).to_numpy(), color='orange', label='Separate Runs')\n",
    "plt.legend(loc=1)"
   ]
  },
  {
   "cell_type": "markdown",
   "metadata": {},
   "source": [
    "Calculate the differences."
   ]
  },
  {
   "cell_type": "code",
   "execution_count": 17,
   "metadata": {},
   "outputs": [],
   "source": [
    "diff = out1a - out2c"
   ]
  },
  {
   "cell_type": "markdown",
   "metadata": {},
   "source": [
    "Display the differences for the first few rows."
   ]
  },
  {
   "cell_type": "code",
   "execution_count": 18,
   "metadata": {},
   "outputs": [
    {
     "data": {
      "text/html": [
       "<div>\n",
       "<style scoped>\n",
       "    .dataframe tbody tr th:only-of-type {\n",
       "        vertical-align: middle;\n",
       "    }\n",
       "\n",
       "    .dataframe tbody tr th {\n",
       "        vertical-align: top;\n",
       "    }\n",
       "\n",
       "    .dataframe thead th {\n",
       "        text-align: right;\n",
       "    }\n",
       "</style>\n",
       "<table border=\"1\" class=\"dataframe\">\n",
       "  <thead>\n",
       "    <tr style=\"text-align: right;\">\n",
       "      <th></th>\n",
       "      <th>Random Generator</th>\n",
       "      <th>R0</th>\n",
       "      <th>k</th>\n",
       "      <th>prevKKSAC year 0.0</th>\n",
       "      <th>prevKKSAC year 0.08</th>\n",
       "      <th>prevKKSAC year 0.17</th>\n",
       "      <th>prevKKSAC year 0.25</th>\n",
       "      <th>prevKKSAC year 0.33</th>\n",
       "      <th>prevKKSAC year 0.42</th>\n",
       "      <th>prevKKSAC year 0.5</th>\n",
       "      <th>...</th>\n",
       "      <th>prevKKSAC year 6.25</th>\n",
       "      <th>prevKKSAC year 6.33</th>\n",
       "      <th>prevKKSAC year 6.42</th>\n",
       "      <th>prevKKSAC year 6.5</th>\n",
       "      <th>prevKKSAC year 6.58</th>\n",
       "      <th>prevKKSAC year 6.67</th>\n",
       "      <th>prevKKSAC year 6.75</th>\n",
       "      <th>prevKKSAC year 6.83</th>\n",
       "      <th>prevKKSAC year 6.92</th>\n",
       "      <th>prevKKSAC year 7.0</th>\n",
       "    </tr>\n",
       "  </thead>\n",
       "  <tbody>\n",
       "    <tr>\n",
       "      <th>0</th>\n",
       "      <td>0</td>\n",
       "      <td>0</td>\n",
       "      <td>0.0</td>\n",
       "      <td>0.0</td>\n",
       "      <td>0.0</td>\n",
       "      <td>0.0</td>\n",
       "      <td>0.0</td>\n",
       "      <td>0.0</td>\n",
       "      <td>0.0</td>\n",
       "      <td>0.0</td>\n",
       "      <td>...</td>\n",
       "      <td>0.0</td>\n",
       "      <td>0.0</td>\n",
       "      <td>0.0</td>\n",
       "      <td>0.0</td>\n",
       "      <td>0.0</td>\n",
       "      <td>0.0</td>\n",
       "      <td>0.0</td>\n",
       "      <td>0.0</td>\n",
       "      <td>0.0</td>\n",
       "      <td>0.0</td>\n",
       "    </tr>\n",
       "    <tr>\n",
       "      <th>1</th>\n",
       "      <td>0</td>\n",
       "      <td>0</td>\n",
       "      <td>0.0</td>\n",
       "      <td>0.0</td>\n",
       "      <td>0.0</td>\n",
       "      <td>0.0</td>\n",
       "      <td>0.0</td>\n",
       "      <td>0.0</td>\n",
       "      <td>0.0</td>\n",
       "      <td>0.0</td>\n",
       "      <td>...</td>\n",
       "      <td>0.0</td>\n",
       "      <td>0.0</td>\n",
       "      <td>0.0</td>\n",
       "      <td>0.0</td>\n",
       "      <td>0.0</td>\n",
       "      <td>0.0</td>\n",
       "      <td>0.0</td>\n",
       "      <td>0.0</td>\n",
       "      <td>0.0</td>\n",
       "      <td>0.0</td>\n",
       "    </tr>\n",
       "    <tr>\n",
       "      <th>2</th>\n",
       "      <td>0</td>\n",
       "      <td>0</td>\n",
       "      <td>0.0</td>\n",
       "      <td>0.0</td>\n",
       "      <td>0.0</td>\n",
       "      <td>0.0</td>\n",
       "      <td>0.0</td>\n",
       "      <td>0.0</td>\n",
       "      <td>0.0</td>\n",
       "      <td>0.0</td>\n",
       "      <td>...</td>\n",
       "      <td>0.0</td>\n",
       "      <td>0.0</td>\n",
       "      <td>0.0</td>\n",
       "      <td>0.0</td>\n",
       "      <td>0.0</td>\n",
       "      <td>0.0</td>\n",
       "      <td>0.0</td>\n",
       "      <td>0.0</td>\n",
       "      <td>0.0</td>\n",
       "      <td>0.0</td>\n",
       "    </tr>\n",
       "    <tr>\n",
       "      <th>3</th>\n",
       "      <td>0</td>\n",
       "      <td>0</td>\n",
       "      <td>0.0</td>\n",
       "      <td>0.0</td>\n",
       "      <td>0.0</td>\n",
       "      <td>0.0</td>\n",
       "      <td>0.0</td>\n",
       "      <td>0.0</td>\n",
       "      <td>0.0</td>\n",
       "      <td>0.0</td>\n",
       "      <td>...</td>\n",
       "      <td>0.0</td>\n",
       "      <td>0.0</td>\n",
       "      <td>0.0</td>\n",
       "      <td>0.0</td>\n",
       "      <td>0.0</td>\n",
       "      <td>0.0</td>\n",
       "      <td>0.0</td>\n",
       "      <td>0.0</td>\n",
       "      <td>0.0</td>\n",
       "      <td>0.0</td>\n",
       "    </tr>\n",
       "    <tr>\n",
       "      <th>4</th>\n",
       "      <td>0</td>\n",
       "      <td>0</td>\n",
       "      <td>0.0</td>\n",
       "      <td>0.0</td>\n",
       "      <td>0.0</td>\n",
       "      <td>0.0</td>\n",
       "      <td>0.0</td>\n",
       "      <td>0.0</td>\n",
       "      <td>0.0</td>\n",
       "      <td>0.0</td>\n",
       "      <td>...</td>\n",
       "      <td>0.0</td>\n",
       "      <td>0.0</td>\n",
       "      <td>0.0</td>\n",
       "      <td>0.0</td>\n",
       "      <td>0.0</td>\n",
       "      <td>0.0</td>\n",
       "      <td>0.0</td>\n",
       "      <td>0.0</td>\n",
       "      <td>0.0</td>\n",
       "      <td>0.0</td>\n",
       "    </tr>\n",
       "  </tbody>\n",
       "</table>\n",
       "<p>5 rows × 88 columns</p>\n",
       "</div>"
      ],
      "text/plain": [
       "   Random Generator  R0    k  prevKKSAC year 0.0  prevKKSAC year 0.08  \\\n",
       "0                 0   0  0.0                 0.0                  0.0   \n",
       "1                 0   0  0.0                 0.0                  0.0   \n",
       "2                 0   0  0.0                 0.0                  0.0   \n",
       "3                 0   0  0.0                 0.0                  0.0   \n",
       "4                 0   0  0.0                 0.0                  0.0   \n",
       "\n",
       "   prevKKSAC year 0.17  prevKKSAC year 0.25  prevKKSAC year 0.33  \\\n",
       "0                  0.0                  0.0                  0.0   \n",
       "1                  0.0                  0.0                  0.0   \n",
       "2                  0.0                  0.0                  0.0   \n",
       "3                  0.0                  0.0                  0.0   \n",
       "4                  0.0                  0.0                  0.0   \n",
       "\n",
       "   prevKKSAC year 0.42  prevKKSAC year 0.5  ...  prevKKSAC year 6.25  \\\n",
       "0                  0.0                 0.0  ...                  0.0   \n",
       "1                  0.0                 0.0  ...                  0.0   \n",
       "2                  0.0                 0.0  ...                  0.0   \n",
       "3                  0.0                 0.0  ...                  0.0   \n",
       "4                  0.0                 0.0  ...                  0.0   \n",
       "\n",
       "   prevKKSAC year 6.33  prevKKSAC year 6.42  prevKKSAC year 6.5  \\\n",
       "0                  0.0                  0.0                 0.0   \n",
       "1                  0.0                  0.0                 0.0   \n",
       "2                  0.0                  0.0                 0.0   \n",
       "3                  0.0                  0.0                 0.0   \n",
       "4                  0.0                  0.0                 0.0   \n",
       "\n",
       "   prevKKSAC year 6.58  prevKKSAC year 6.67  prevKKSAC year 6.75  \\\n",
       "0                  0.0                  0.0                  0.0   \n",
       "1                  0.0                  0.0                  0.0   \n",
       "2                  0.0                  0.0                  0.0   \n",
       "3                  0.0                  0.0                  0.0   \n",
       "4                  0.0                  0.0                  0.0   \n",
       "\n",
       "   prevKKSAC year 6.83  prevKKSAC year 6.92  prevKKSAC year 7.0  \n",
       "0                  0.0                  0.0                 0.0  \n",
       "1                  0.0                  0.0                 0.0  \n",
       "2                  0.0                  0.0                 0.0  \n",
       "3                  0.0                  0.0                 0.0  \n",
       "4                  0.0                  0.0                 0.0  \n",
       "\n",
       "[5 rows x 88 columns]"
      ]
     },
     "execution_count": 18,
     "metadata": {},
     "output_type": "execute_result"
    }
   ],
   "source": [
    "diff.head()"
   ]
  },
  {
   "cell_type": "markdown",
   "metadata": {},
   "source": [
    "Calculate the largest and smallest difference."
   ]
  },
  {
   "cell_type": "code",
   "execution_count": 19,
   "metadata": {},
   "outputs": [
    {
     "name": "stdout",
     "output_type": "stream",
     "text": [
      "Largest difference: 0.00\n",
      "Smallest difference: 0.00\n"
     ]
    }
   ],
   "source": [
    "print('Largest difference: ' + format(np.min(diff.values), '.2f'))\n",
    "print('Smallest difference: ' + format(np.max(diff.values), '.2f'))"
   ]
  },
  {
   "cell_type": "code",
   "execution_count": null,
   "metadata": {},
   "outputs": [],
   "source": []
  }
 ],
 "metadata": {
  "kernelspec": {
   "display_name": "Python 3",
   "language": "python",
   "name": "python3"
  },
  "language_info": {
   "codemirror_mode": {
    "name": "ipython",
    "version": 3
   },
   "file_extension": ".py",
   "mimetype": "text/x-python",
   "name": "python",
   "nbconvert_exporter": "python",
   "pygments_lexer": "ipython3",
   "version": "3.7.6"
  }
 },
 "nbformat": 4,
 "nbformat_minor": 4
}
